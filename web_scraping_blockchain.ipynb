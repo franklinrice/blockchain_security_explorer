{
 "cells": [
  {
   "cell_type": "markdown",
   "metadata": {},
   "source": [
    "What's up blockchain fam. Hopefully this helps - it's an example of scraping data with Python."
   ]
  },
  {
   "cell_type": "code",
   "execution_count": 1,
   "metadata": {
    "collapsed": true
   },
   "outputs": [],
   "source": [
    "# Import libraries we need\n",
    "import requests                 # allows us to dl a webpage\n",
    "from bs4 import BeautifulSoup   # allows us to scrape html"
   ]
  },
  {
   "cell_type": "code",
   "execution_count": 2,
   "metadata": {
    "collapsed": false
   },
   "outputs": [],
   "source": [
    "# site to scrape\n",
    "site = \"https://www.walletexplorer.com/wallet/23c39bc811da0d39?from_address=1MMaU5nTrFdPZotfwdbv1wWnFjLCTFbpPY\"\n",
    "site = requests.get(site)\n",
    "sitecontent = site.content"
   ]
  },
  {
   "cell_type": "markdown",
   "metadata": {},
   "source": [
    "Now the html is stored inside of `content`. That's kind of helpful.\n",
    "\n",
    "To actually do stuff with the data, though, we'll need a way to parse through it.\n",
    "Enter beautifulsoup (ayyee):\n"
   ]
  },
  {
   "cell_type": "code",
   "execution_count": 4,
   "metadata": {
    "collapsed": false
   },
   "outputs": [
    {
     "name": "stdout",
     "output_type": "stream",
     "text": [
      "<!DOCTYPE html>\n",
      "<html lang=\"en\">\n",
      " <meta charset=\"utf-8\"/>\n",
      " <title>\n",
      "  Wallet 23c39bc811da0d39 [WalletExplorer.com]\n",
      " </title>\n",
      " <link href=\"/styles.css\" rel=\"stylesheet\">\n",
      "  <meta content=\"always\" name=\"referrer\">\n",
      "   <div id=\"topbar\">\n",
      "    <h1>\n",
      "     <a href=\"/\">\n",
      "      WalletExplorer.com\n",
      "     </a>\n",
      "     : smart Bitcoin block explorer\n",
      "    </h1>\n",
      "    <form action=\"/\">\n",
      "     <input name=\"q\" type=\"text\" value=\"\"/>\n",
      "     <input type=\"submit\" value=\"Search address/txid/wallet id/firstbits\"/>\n",
      "    </form>\n",
      "   </div>\n",
      "   <div id=\"main\">\n",
      "    <h2>\n",
      "     Wallet\n",
      "     <span class=\"walletcolor\" style=\"background-color: #da0d39\">\n",
      "     </span>\n",
      "     [23c39bc811]\n",
      "     <span class=\"showother\">\n",
      "      (\n",
      "      <a href=\"/wallet/23c39bc811da0d39/addresses\">\n",
      "       show wallet addresses\n",
      "      </a>\n",
      "      )\n",
      "     </span>\n",
      "    </h2>\n",
      "    <!-- 23c39bc811da0d39 -->\n",
      "    <p class=\"note\">\n",
      "     Displaying wallet\n",
      "     <span class=\"walletcolor\" style=\"background-color: #da0d39\">\n",
      "     </span>\n",
      "     [23c39bc811], of which part is address 1MMaU5nTrFdPZotfwdbv1wWnFjLCTFbpPY.\n",
      "     <a href=\"/address/1MMaU5nTrFdPZotfwdbv1wWnFjLCTFbpPY\">\n",
      "      Show only address 1MMaU5nTrFdPZotfwdbv1wWnFjLCTFbpPY\n",
      "     </a>\n",
      "    </p>\n",
      "    <div class=\"paging\">\n",
      "     <div class=\"saveas\">\n",
      "      <a href=\"/wallet/23c39bc811da0d39?format=csv\">\n",
      "       Download as CSV\n",
      "      </a>\n",
      "     </div>\n",
      "     Page 1 / 1\n",
      "     <small>\n",
      "      (total transactions: 5)\n",
      "     </small>\n",
      "    </div>\n",
      "    <table class=\"txs\">\n",
      "     <tr>\n",
      "      <th>\n",
      "       date\n",
      "      </th>\n",
      "      <th>\n",
      "       received/sent\n",
      "      </th>\n",
      "      <th>\n",
      "       balance\n",
      "      </th>\n",
      "      <th>\n",
      "       transaction\n",
      "      </th>\n",
      "     </tr>\n",
      "     <tr class=\"received\">\n",
      "      <td class=\"date\">\n",
      "       2017-02-06 01:02:47\n",
      "      </td>\n",
      "      <td class=\"inout\">\n",
      "       <table class=\"empty\">\n",
      "        <tr>\n",
      "         <td class=\"walletid\">\n",
      "          <a href=\"/wallet/b4a74320e7f069a2\">\n",
      "           <span class=\"walletcolor\" style=\"background-color: #f069a2\">\n",
      "           </span>\n",
      "           [b4a74320e7]\n",
      "          </a>\n",
      "         </td>\n",
      "         <td class=\"amount diff\">\n",
      "          +0.14915494\n",
      "         </td>\n",
      "         <td>\n",
      "         </td>\n",
      "        </tr>\n",
      "       </table>\n",
      "      </td>\n",
      "      <td class=\"amount\">\n",
      "       0.14925494\n",
      "      </td>\n",
      "      <td class=\"txid\">\n",
      "       <a href=\"/txid/2c44195149bbc0cf9f8aaeb5e434b899611e7e161e0446ab2bf9240287198df5\">\n",
      "        2c44195149bbc0cf9f8a…\n",
      "       </a>\n",
      "      </td>\n",
      "     </tr>\n",
      "     <tr class=\"received\">\n",
      "      <td class=\"date\">\n",
      "       2016-11-24 17:36:42\n",
      "      </td>\n",
      "      <td class=\"inout\">\n",
      "       <table class=\"empty\">\n",
      "        <tr>\n",
      "         <td class=\"walletid\">\n",
      "          <a href=\"/wallet/2a7bb3480384eed5\">\n",
      "           <span class=\"walletcolor\" style=\"background-color: #84eed5\">\n",
      "           </span>\n",
      "           [2a7bb34803]\n",
      "          </a>\n",
      "         </td>\n",
      "         <td class=\"amount diff\">\n",
      "          +0.0001\n",
      "         </td>\n",
      "         <td>\n",
      "         </td>\n",
      "        </tr>\n",
      "       </table>\n",
      "      </td>\n",
      "      <td class=\"amount\">\n",
      "       0.0001\n",
      "      </td>\n",
      "      <td class=\"txid\">\n",
      "       <a href=\"/txid/eef5e0b1f24194402b89d0af40b1964632996414a40600cd73b82db13fe91d95\">\n",
      "        eef5e0b1f24194402b89…\n",
      "       </a>\n",
      "      </td>\n",
      "     </tr>\n",
      "     <tr class=\"sent\">\n",
      "      <td class=\"date\">\n",
      "       2016-08-20 21:23:38\n",
      "      </td>\n",
      "      <td class=\"inout\">\n",
      "       <table class=\"empty\">\n",
      "        <tr>\n",
      "         <td class=\"walletid\">\n",
      "         </td>\n",
      "         <td class=\"amount diff\">\n",
      "          -0.5\n",
      "         </td>\n",
      "         <td class=\"walletid\">\n",
      "          <a href=\"/wallet/ec38851dbb8af0a8\">\n",
      "           <span class=\"walletcolor\" style=\"background-color: #8af0a8\">\n",
      "           </span>\n",
      "           [ec38851dbb]\n",
      "          </a>\n",
      "         </td>\n",
      "        </tr>\n",
      "        <tr>\n",
      "         <td class=\"walletid\">\n",
      "         </td>\n",
      "         <td class=\"amount diff\">\n",
      "          -0.428801\n",
      "         </td>\n",
      "         <td class=\"walletid\">\n",
      "          <a href=\"/wallet/51743e65e4a27f63\">\n",
      "           <span class=\"walletcolor\" style=\"background-color: #a27f63\">\n",
      "           </span>\n",
      "           [51743e65e4]\n",
      "          </a>\n",
      "         </td>\n",
      "        </tr>\n",
      "        <tr>\n",
      "         <td>\n",
      "         </td>\n",
      "         <td class=\"amount diff\">\n",
      "          <em>\n",
      "           (-0.00018799)\n",
      "          </em>\n",
      "         </td>\n",
      "         <td>\n",
      "          <em>\n",
      "           fee\n",
      "          </em>\n",
      "         </td>\n",
      "        </tr>\n",
      "       </table>\n",
      "      </td>\n",
      "      <td class=\"amount\">\n",
      "       0.\n",
      "      </td>\n",
      "      <td class=\"txid\">\n",
      "       <a href=\"/txid/1b1ac78d6f812c6bf80ad5848fb982592af7e48e295396499037177755d17cd1\">\n",
      "        1b1ac78d6f812c6bf80a…\n",
      "       </a>\n",
      "      </td>\n",
      "     </tr>\n",
      "     <tr class=\"received\">\n",
      "      <td class=\"date\">\n",
      "       2016-07-07 22:37:48\n",
      "      </td>\n",
      "      <td class=\"inout\">\n",
      "       <table class=\"empty\">\n",
      "        <tr>\n",
      "         <td class=\"walletid\">\n",
      "          <a href=\"/wallet/b4ac413a2937ee5a\">\n",
      "           <span class=\"walletcolor\" style=\"background-color: #37ee5a\">\n",
      "           </span>\n",
      "           [b4ac413a29]\n",
      "          </a>\n",
      "         </td>\n",
      "         <td class=\"amount diff\">\n",
      "          +0.03593299\n",
      "         </td>\n",
      "         <td>\n",
      "         </td>\n",
      "        </tr>\n",
      "       </table>\n",
      "      </td>\n",
      "      <td class=\"amount\">\n",
      "       0.92898899\n",
      "      </td>\n",
      "      <td class=\"txid\">\n",
      "       <a href=\"/txid/27e4f4629aca12f13097dcf581688a0d5a20157d8c190b177dfa31920bdb090b\">\n",
      "        27e4f4629aca12f13097…\n",
      "       </a>\n",
      "      </td>\n",
      "     </tr>\n",
      "     <tr class=\"received\">\n",
      "      <td class=\"date\">\n",
      "       2016-07-01 18:13:53\n",
      "      </td>\n",
      "      <td class=\"inout\">\n",
      "       <table class=\"empty\">\n",
      "        <tr>\n",
      "         <td class=\"walletid\">\n",
      "          <a href=\"/wallet/924d32a14ffafd41\">\n",
      "           <span class=\"walletcolor\" style=\"background-color: #fafd41\">\n",
      "           </span>\n",
      "           [924d32a14f]\n",
      "          </a>\n",
      "         </td>\n",
      "         <td class=\"amount diff\">\n",
      "          +0.893056\n",
      "         </td>\n",
      "         <td>\n",
      "         </td>\n",
      "        </tr>\n",
      "       </table>\n",
      "      </td>\n",
      "      <td class=\"amount\">\n",
      "       0.893056\n",
      "      </td>\n",
      "      <td class=\"txid\">\n",
      "       <a href=\"/txid/2ae8a39f65fbbaf64988976993074569e34a896e040a93f0537715ccfd4ebbde\">\n",
      "        2ae8a39f65fbbaf64988…\n",
      "       </a>\n",
      "      </td>\n",
      "     </tr>\n",
      "    </table>\n",
      "    <div class=\"paging\">\n",
      "     <div class=\"saveas\">\n",
      "      <a href=\"/wallet/23c39bc811da0d39?format=csv\">\n",
      "       Download as CSV\n",
      "      </a>\n",
      "     </div>\n",
      "     Page 1 / 1\n",
      "     <small>\n",
      "      (total transactions: 5)\n",
      "     </small>\n",
      "    </div>\n",
      "   </div>\n",
      "   <div style=\"clear: both;\">\n",
      "   </div>\n",
      "   <div id=\"foot\">\n",
      "    <div style=\"float: right; text-align: right;\">\n",
      "     Questions? Tips for wallets?\n",
      "     <a href=\"http://www.kyblsoft.cz/alesjanda/#kontakt\">\n",
      "      Let me know!\n",
      "     </a>\n",
      "     <br/>\n",
      "     ©\n",
      "     <a href=\"http://www.kyblsoft.cz/alesjanda/\">\n",
      "      Aleš Janda\n",
      "     </a>\n",
      "     2013-2017\n",
      "    </div>\n",
      "    Updated to block\n",
      "    <b>\n",
      "     455507\n",
      "    </b>\n",
      "    (2017-03-03 01:02:43). All times are in UTC and taken from block time.\n",
      "    <br/>\n",
      "    Was this service useful to you?\n",
      "    <b>\n",
      "     1EXPLoRER\n",
      "    </b>\n",
      "    NujCmxxGTABk88bzE1BnwdeAu\n",
      "    <div style=\"margin: 0.5em 0; color: white;\">\n",
      "     Want to trace bitcoins with even better tool? Check\n",
      "     <a href=\"https://chainalysis.com\">\n",
      "      Chainalysis.com\n",
      "     </a>\n",
      "     . It has even better detection of wallets, more wallet names, address metadata, graphic visualization of links between wallets and so on. Author of WalletExplorer.com now works there as analyst and programmer :-)\n",
      "    </div>\n",
      "   </div>\n",
      "  </meta>\n",
      " </link>\n",
      "</html>\n"
     ]
    }
   ],
   "source": [
    "# Use BeautifulSoup to make obtained website workable.\n",
    "content = BeautifulSoup(sitecontent, 'html.parser')\n",
    "\n",
    "# View original html hierarchy\n",
    "print(content.prettify())"
   ]
  },
  {
   "cell_type": "markdown",
   "metadata": {},
   "source": [
    "## Now we can get to extracting elements. \n",
    "\n",
    "If you haven't used html, it's pretty simple. The tags are nested with in each other and stand for different things.\n",
    "\n",
    "To find where a specific element is nested in the webpage, highlight it and on the webpage, right-click highlighted spot, and click *inspect*.\n"
   ]
  },
  {
   "cell_type": "markdown",
   "metadata": {},
   "source": [
    "For the url you gave me, the table is stored inside of\n",
    "\n",
    "`<table class=\"txs\"> ... </table>`\n",
    "\n",
    "Let's start grabbing stuff"
   ]
  },
  {
   "cell_type": "markdown",
   "metadata": {},
   "source": [
    "## Find first element\n",
    "\n",
    "To find the first type of an element, say the `<p>` tag, use the `.find()` method\n",
    "\n",
    "Note: Output stored as Python list"
   ]
  },
  {
   "cell_type": "code",
   "execution_count": 12,
   "metadata": {
    "collapsed": false
   },
   "outputs": [
    {
     "data": {
      "text/plain": [
       "<p class=\"note\">Displaying wallet <span class=\"walletcolor\" style=\"background-color: #da0d39\"></span>[23c39bc811], of which part is address 1MMaU5nTrFdPZotfwdbv1wWnFjLCTFbpPY. <a href=\"/address/1MMaU5nTrFdPZotfwdbv1wWnFjLCTFbpPY\">Show only address 1MMaU5nTrFdPZotfwdbv1wWnFjLCTFbpPY</a></p>"
      ]
     },
     "execution_count": 12,
     "metadata": {},
     "output_type": "execute_result"
    }
   ],
   "source": [
    "# find first paragraph\n",
    "content.find('p')"
   ]
  },
  {
   "cell_type": "code",
   "execution_count": 16,
   "metadata": {
    "collapsed": false
   },
   "outputs": [
    {
     "data": {
      "text/plain": [
       "<div id=\"topbar\">\n",
       "<h1><a href=\"/\">WalletExplorer.com</a>: smart Bitcoin block explorer</h1>\n",
       "<form action=\"/\">\n",
       "<input name=\"q\" type=\"text\" value=\"\"/>\n",
       "<input type=\"submit\" value=\"Search address/txid/wallet id/firstbits\"/>\n",
       "</form>\n",
       "</div>"
      ]
     },
     "execution_count": 16,
     "metadata": {},
     "output_type": "execute_result"
    }
   ],
   "source": [
    "# Find first div\n",
    "content.find('div')"
   ]
  },
  {
   "cell_type": "markdown",
   "metadata": {},
   "source": [
    "## Find all elements of a certain tag\n",
    "\n",
    "Use `find_all()`"
   ]
  },
  {
   "cell_type": "code",
   "execution_count": 19,
   "metadata": {
    "collapsed": false
   },
   "outputs": [
    {
     "data": {
      "text/plain": [
       "[<a href=\"/\">WalletExplorer.com</a>,\n",
       " <a href=\"/wallet/23c39bc811da0d39/addresses\">show wallet addresses</a>,\n",
       " <a href=\"/address/1MMaU5nTrFdPZotfwdbv1wWnFjLCTFbpPY\">Show only address 1MMaU5nTrFdPZotfwdbv1wWnFjLCTFbpPY</a>,\n",
       " <a href=\"/wallet/23c39bc811da0d39?format=csv\">Download as CSV</a>,\n",
       " <a href=\"/wallet/b4a74320e7f069a2\"><span class=\"walletcolor\" style=\"background-color: #f069a2\"></span>[b4a74320e7]</a>,\n",
       " <a href=\"/txid/2c44195149bbc0cf9f8aaeb5e434b899611e7e161e0446ab2bf9240287198df5\">2c44195149bbc0cf9f8a…</a>,\n",
       " <a href=\"/wallet/2a7bb3480384eed5\"><span class=\"walletcolor\" style=\"background-color: #84eed5\"></span>[2a7bb34803]</a>,\n",
       " <a href=\"/txid/eef5e0b1f24194402b89d0af40b1964632996414a40600cd73b82db13fe91d95\">eef5e0b1f24194402b89…</a>,\n",
       " <a href=\"/wallet/ec38851dbb8af0a8\"><span class=\"walletcolor\" style=\"background-color: #8af0a8\"></span>[ec38851dbb]</a>,\n",
       " <a href=\"/wallet/51743e65e4a27f63\"><span class=\"walletcolor\" style=\"background-color: #a27f63\"></span>[51743e65e4]</a>,\n",
       " <a href=\"/txid/1b1ac78d6f812c6bf80ad5848fb982592af7e48e295396499037177755d17cd1\">1b1ac78d6f812c6bf80a…</a>,\n",
       " <a href=\"/wallet/b4ac413a2937ee5a\"><span class=\"walletcolor\" style=\"background-color: #37ee5a\"></span>[b4ac413a29]</a>,\n",
       " <a href=\"/txid/27e4f4629aca12f13097dcf581688a0d5a20157d8c190b177dfa31920bdb090b\">27e4f4629aca12f13097…</a>,\n",
       " <a href=\"/wallet/924d32a14ffafd41\"><span class=\"walletcolor\" style=\"background-color: #fafd41\"></span>[924d32a14f]</a>,\n",
       " <a href=\"/txid/2ae8a39f65fbbaf64988976993074569e34a896e040a93f0537715ccfd4ebbde\">2ae8a39f65fbbaf64988…</a>,\n",
       " <a href=\"/wallet/23c39bc811da0d39?format=csv\">Download as CSV</a>,\n",
       " <a href=\"http://www.kyblsoft.cz/alesjanda/#kontakt\">Let me know!</a>,\n",
       " <a href=\"http://www.kyblsoft.cz/alesjanda/\">Aleš Janda</a>,\n",
       " <a href=\"https://chainalysis.com\">Chainalysis.com</a>]"
      ]
     },
     "execution_count": 19,
     "metadata": {},
     "output_type": "execute_result"
    }
   ],
   "source": [
    "# Find all links\n",
    "content.find_all('a')"
   ]
  },
  {
   "cell_type": "markdown",
   "metadata": {},
   "source": [
    "## You can also use CSS tags to find nested stuff.\n",
    "e.g. \n",
    "`content.select(\"body p a\")` finds all `a` tags inside of a `p` tag inside of a `body` tag."
   ]
  },
  {
   "cell_type": "code",
   "execution_count": 39,
   "metadata": {
    "collapsed": false
   },
   "outputs": [
    {
     "data": {
      "text/plain": [
       "[<th>date</th>, <th>received/sent</th>, <th>balance</th>, <th>transaction</th>]"
      ]
     },
     "execution_count": 39,
     "metadata": {},
     "output_type": "execute_result"
    }
   ],
   "source": [
    "content.select('table th')"
   ]
  },
  {
   "cell_type": "markdown",
   "metadata": {},
   "source": [
    "HTML tags can belong to certain 'classes'. You can use this information to find tags belonging to particular classes. \n",
    "\n",
    "For you guys (+ girl), the table you want is a `<table>` tag with `class = \"txs\"`"
   ]
  },
  {
   "cell_type": "code",
   "execution_count": 57,
   "metadata": {
    "collapsed": false
   },
   "outputs": [
    {
     "name": "stdout",
     "output_type": "stream",
     "text": [
      "12\n",
      "<table class=\"txs\">\n",
      " <tr>\n",
      "  <th>\n",
      "   date\n",
      "  </th>\n",
      "  <th>\n",
      "   received/sent\n",
      "  </th>\n",
      "  <th>\n",
      "   balance\n",
      "  </th>\n",
      "  <th>\n",
      "   transaction\n",
      "  </th>\n",
      " </tr>\n",
      " <tr class=\"received\">\n",
      "  <td class=\"date\">\n",
      "   2017-02-06 01:02:47\n",
      "  </td>\n",
      "  <td class=\"inout\">\n",
      "   <table class=\"empty\">\n",
      "    <tr>\n",
      "     <td class=\"walletid\">\n",
      "      <a href=\"/wallet/b4a74320e7f069a2\">\n",
      "       <span class=\"walletcolor\" style=\"background-color: #f069a2\">\n",
      "       </span>\n",
      "       [b4a74320e7]\n",
      "      </a>\n",
      "     </td>\n",
      "     <td class=\"amount diff\">\n",
      "      +0.14915494\n",
      "     </td>\n",
      "     <td>\n",
      "     </td>\n",
      "    </tr>\n",
      "   </table>\n",
      "  </td>\n",
      "  <td class=\"amount\">\n",
      "   0.14925494\n",
      "  </td>\n",
      "  <td class=\"txid\">\n",
      "   <a href=\"/txid/2c44195149bbc0cf9f8aaeb5e434b899611e7e161e0446ab2bf9240287198df5\">\n",
      "    2c44195149bbc0cf9f8a…\n",
      "   </a>\n",
      "  </td>\n",
      " </tr>\n",
      " <tr class=\"received\">\n",
      "  <td class=\"date\">\n",
      "   2016-11-24 17:36:42\n",
      "  </td>\n",
      "  <td class=\"inout\">\n",
      "   <table class=\"empty\">\n",
      "    <tr>\n",
      "     <td class=\"walletid\">\n",
      "      <a href=\"/wallet/2a7bb3480384eed5\">\n",
      "       <span class=\"walletcolor\" style=\"background-color: #84eed5\">\n",
      "       </span>\n",
      "       [2a7bb34803]\n",
      "      </a>\n",
      "     </td>\n",
      "     <td class=\"amount diff\">\n",
      "      +0.0001\n",
      "     </td>\n",
      "     <td>\n",
      "     </td>\n",
      "    </tr>\n",
      "   </table>\n",
      "  </td>\n",
      "  <td class=\"amount\">\n",
      "   0.0001\n",
      "  </td>\n",
      "  <td class=\"txid\">\n",
      "   <a href=\"/txid/eef5e0b1f24194402b89d0af40b1964632996414a40600cd73b82db13fe91d95\">\n",
      "    eef5e0b1f24194402b89…\n",
      "   </a>\n",
      "  </td>\n",
      " </tr>\n",
      " <tr class=\"sent\">\n",
      "  <td class=\"date\">\n",
      "   2016-08-20 21:23:38\n",
      "  </td>\n",
      "  <td class=\"inout\">\n",
      "   <table class=\"empty\">\n",
      "    <tr>\n",
      "     <td class=\"walletid\">\n",
      "     </td>\n",
      "     <td class=\"amount diff\">\n",
      "      -0.5\n",
      "     </td>\n",
      "     <td class=\"walletid\">\n",
      "      <a href=\"/wallet/ec38851dbb8af0a8\">\n",
      "       <span class=\"walletcolor\" style=\"background-color: #8af0a8\">\n",
      "       </span>\n",
      "       [ec38851dbb]\n",
      "      </a>\n",
      "     </td>\n",
      "    </tr>\n",
      "    <tr>\n",
      "     <td class=\"walletid\">\n",
      "     </td>\n",
      "     <td class=\"amount diff\">\n",
      "      -0.428801\n",
      "     </td>\n",
      "     <td class=\"walletid\">\n",
      "      <a href=\"/wallet/51743e65e4a27f63\">\n",
      "       <span class=\"walletcolor\" style=\"background-color: #a27f63\">\n",
      "       </span>\n",
      "       [51743e65e4]\n",
      "      </a>\n",
      "     </td>\n",
      "    </tr>\n",
      "    <tr>\n",
      "     <td>\n",
      "     </td>\n",
      "     <td class=\"amount diff\">\n",
      "      <em>\n",
      "       (-0.00018799)\n",
      "      </em>\n",
      "     </td>\n",
      "     <td>\n",
      "      <em>\n",
      "       fee\n",
      "      </em>\n",
      "     </td>\n",
      "    </tr>\n",
      "   </table>\n",
      "  </td>\n",
      "  <td class=\"amount\">\n",
      "   0.\n",
      "  </td>\n",
      "  <td class=\"txid\">\n",
      "   <a href=\"/txid/1b1ac78d6f812c6bf80ad5848fb982592af7e48e295396499037177755d17cd1\">\n",
      "    1b1ac78d6f812c6bf80a…\n",
      "   </a>\n",
      "  </td>\n",
      " </tr>\n",
      " <tr class=\"received\">\n",
      "  <td class=\"date\">\n",
      "   2016-07-07 22:37:48\n",
      "  </td>\n",
      "  <td class=\"inout\">\n",
      "   <table class=\"empty\">\n",
      "    <tr>\n",
      "     <td class=\"walletid\">\n",
      "      <a href=\"/wallet/b4ac413a2937ee5a\">\n",
      "       <span class=\"walletcolor\" style=\"background-color: #37ee5a\">\n",
      "       </span>\n",
      "       [b4ac413a29]\n",
      "      </a>\n",
      "     </td>\n",
      "     <td class=\"amount diff\">\n",
      "      +0.03593299\n",
      "     </td>\n",
      "     <td>\n",
      "     </td>\n",
      "    </tr>\n",
      "   </table>\n",
      "  </td>\n",
      "  <td class=\"amount\">\n",
      "   0.92898899\n",
      "  </td>\n",
      "  <td class=\"txid\">\n",
      "   <a href=\"/txid/27e4f4629aca12f13097dcf581688a0d5a20157d8c190b177dfa31920bdb090b\">\n",
      "    27e4f4629aca12f13097…\n",
      "   </a>\n",
      "  </td>\n",
      " </tr>\n",
      " <tr class=\"received\">\n",
      "  <td class=\"date\">\n",
      "   2016-07-01 18:13:53\n",
      "  </td>\n",
      "  <td class=\"inout\">\n",
      "   <table class=\"empty\">\n",
      "    <tr>\n",
      "     <td class=\"walletid\">\n",
      "      <a href=\"/wallet/924d32a14ffafd41\">\n",
      "       <span class=\"walletcolor\" style=\"background-color: #fafd41\">\n",
      "       </span>\n",
      "       [924d32a14f]\n",
      "      </a>\n",
      "     </td>\n",
      "     <td class=\"amount diff\">\n",
      "      +0.893056\n",
      "     </td>\n",
      "     <td>\n",
      "     </td>\n",
      "    </tr>\n",
      "   </table>\n",
      "  </td>\n",
      "  <td class=\"amount\">\n",
      "   0.893056\n",
      "  </td>\n",
      "  <td class=\"txid\">\n",
      "   <a href=\"/txid/2ae8a39f65fbbaf64988976993074569e34a896e040a93f0537715ccfd4ebbde\">\n",
      "    2ae8a39f65fbbaf64988…\n",
      "   </a>\n",
      "  </td>\n",
      " </tr>\n",
      "</table>\n",
      "\n"
     ]
    }
   ],
   "source": [
    "# find table we want\n",
    "table = content.find('table', class_ = \"txs\")\n",
    "print len(table)\n",
    "#table = table[0] # extract code from list\n",
    "print table.prettify()\n",
    "\n",
    "\n",
    "# mmmmmm look at that sweet, sweet html code ;)"
   ]
  },
  {
   "cell_type": "markdown",
   "metadata": {},
   "source": [
    "## Grab stuff we want and coerce it to a workable format\n",
    "\n",
    "We want the following columns:\n",
    "\n",
    "- Dates\n",
    "- Received/Sent\n",
    "- Balance\n",
    "- Transaction\n",
    "\n",
    "We'll use BeautifulSoup to capture each column, and use the 'pandas' library in Python to make it useable.\n",
    "\n",
    "Ok let's get it fam!"
   ]
  },
  {
   "cell_type": "code",
   "execution_count": 111,
   "metadata": {
    "collapsed": false
   },
   "outputs": [
    {
     "data": {
      "text/plain": [
       "5"
      ]
     },
     "execution_count": 111,
     "metadata": {},
     "output_type": "execute_result"
    }
   ],
   "source": [
    "# Get Dates\n",
    "\n",
    "# Looking at the html, we can see that each date is nested inside the following html\n",
    "#   <td class=\"date\">2017-02-06 01:02:47</td>\n",
    "date_list = table.find_all(\"td\", class_=\"date\")\n",
    "dates = [date.get_text() for date in date_list]\n",
    "dates"
   ]
  },
  {
   "cell_type": "code",
   "execution_count": 142,
   "metadata": {
    "collapsed": false
   },
   "outputs": [
    {
     "name": "stdout",
     "output_type": "stream",
     "text": [
      "[u'[b4a74320e7]', u'[2a7bb34803]', u'', u'[ec38851dbb]', u'', u'[51743e65e4]', u'[b4ac413a29]', u'[924d32a14f]']\n",
      "[u'[b4a74320e7]', u'[2a7bb34803]', (u'[ec38851dbb]', u'[51743e65e4]'), u'[b4ac413a29]', u'[924d32a14f]']\n"
     ]
    }
   ],
   "source": [
    "# Get sent/received\n",
    "# stored in <td class=\"walletid\"></td>\n",
    "\n",
    "# Recall, to find the above tag/class combos, we just highlighted & right-clicked 'inspect' on \n",
    "# those elements.\n",
    "\n",
    "# get wallet\n",
    "wallet_list = table.find_all(\"td\", class_=\"walletid\")\n",
    "wallet = [wal.get_text() for wal in wallet_list]\n",
    "wallet = [wallet[0], wallet[1], (wallet[3], wallet[5]), wallet[6], wallet[7]]"
   ]
  },
  {
   "cell_type": "code",
   "execution_count": 158,
   "metadata": {
    "collapsed": false
   },
   "outputs": [
    {
     "data": {
      "text/plain": [
       "[0.0, 0.893056, 0.92898899, 0.14925494, 0.0001]"
      ]
     },
     "execution_count": 158,
     "metadata": {},
     "output_type": "execute_result"
    }
   ],
   "source": [
    "# Get balance\n",
    "bal_list = table.find_all(\"td\", class_=\"amount\")\n",
    "bal_dff = table.find_all(\"td\", class_=\"amount diff\")\n",
    "balance_amount_only = set(bal_list) - set(bal_dff)\n",
    "balances = [float(bal.get_text()) for bal in balance_amount_only]\n",
    "balances"
   ]
  },
  {
   "cell_type": "code",
   "execution_count": 162,
   "metadata": {
    "collapsed": false
   },
   "outputs": [
    {
     "data": {
      "text/plain": [
       "[u'2c44195149bbc0cf9f8a\\u2026',\n",
       " u'eef5e0b1f24194402b89\\u2026',\n",
       " u'1b1ac78d6f812c6bf80a\\u2026',\n",
       " u'27e4f4629aca12f13097\\u2026',\n",
       " u'2ae8a39f65fbbaf64988\\u2026']"
      ]
     },
     "execution_count": 162,
     "metadata": {},
     "output_type": "execute_result"
    }
   ],
   "source": [
    "# Get transaction id\n",
    "trans_list = table.find_all(\"td\", class_=\"txid\")\n",
    "trans = [t.get_text() for t in trans_list]\n",
    "trans"
   ]
  },
  {
   "cell_type": "markdown",
   "metadata": {},
   "source": [
    "## Make into dataframe"
   ]
  },
  {
   "cell_type": "code",
   "execution_count": 163,
   "metadata": {
    "collapsed": false
   },
   "outputs": [
    {
     "data": {
      "text/html": [
       "<div>\n",
       "<table border=\"1\" class=\"dataframe\">\n",
       "  <thead>\n",
       "    <tr style=\"text-align: right;\">\n",
       "      <th></th>\n",
       "      <th>balance</th>\n",
       "      <th>date</th>\n",
       "      <th>received/sent</th>\n",
       "      <th>transaction</th>\n",
       "    </tr>\n",
       "  </thead>\n",
       "  <tbody>\n",
       "    <tr>\n",
       "      <th>0</th>\n",
       "      <td>0.000000</td>\n",
       "      <td>2017-02-06 01:02:47</td>\n",
       "      <td>[b4a74320e7]</td>\n",
       "      <td>2c44195149bbc0cf9f8a…</td>\n",
       "    </tr>\n",
       "    <tr>\n",
       "      <th>1</th>\n",
       "      <td>0.893056</td>\n",
       "      <td>2016-11-24 17:36:42</td>\n",
       "      <td>[2a7bb34803]</td>\n",
       "      <td>eef5e0b1f24194402b89…</td>\n",
       "    </tr>\n",
       "    <tr>\n",
       "      <th>2</th>\n",
       "      <td>0.928989</td>\n",
       "      <td>2016-08-20 21:23:38</td>\n",
       "      <td>([ec38851dbb], [51743e65e4])</td>\n",
       "      <td>1b1ac78d6f812c6bf80a…</td>\n",
       "    </tr>\n",
       "    <tr>\n",
       "      <th>3</th>\n",
       "      <td>0.149255</td>\n",
       "      <td>2016-07-07 22:37:48</td>\n",
       "      <td>[b4ac413a29]</td>\n",
       "      <td>27e4f4629aca12f13097…</td>\n",
       "    </tr>\n",
       "    <tr>\n",
       "      <th>4</th>\n",
       "      <td>0.000100</td>\n",
       "      <td>2016-07-01 18:13:53</td>\n",
       "      <td>[924d32a14f]</td>\n",
       "      <td>2ae8a39f65fbbaf64988…</td>\n",
       "    </tr>\n",
       "  </tbody>\n",
       "</table>\n",
       "</div>"
      ],
      "text/plain": [
       "    balance                 date                 received/sent  \\\n",
       "0  0.000000  2017-02-06 01:02:47                  [b4a74320e7]   \n",
       "1  0.893056  2016-11-24 17:36:42                  [2a7bb34803]   \n",
       "2  0.928989  2016-08-20 21:23:38  ([ec38851dbb], [51743e65e4])   \n",
       "3  0.149255  2016-07-07 22:37:48                  [b4ac413a29]   \n",
       "4  0.000100  2016-07-01 18:13:53                  [924d32a14f]   \n",
       "\n",
       "             transaction  \n",
       "0  2c44195149bbc0cf9f8a…  \n",
       "1  eef5e0b1f24194402b89…  \n",
       "2  1b1ac78d6f812c6bf80a…  \n",
       "3  27e4f4629aca12f13097…  \n",
       "4  2ae8a39f65fbbaf64988…  "
      ]
     },
     "execution_count": 163,
     "metadata": {},
     "output_type": "execute_result"
    }
   ],
   "source": [
    "import pandas as pd\n",
    "wallet = pd.DataFrame({\n",
    "        \"date\": dates,\n",
    "        \"received/sent\": wallet,\n",
    "        \"balance\": balances,\n",
    "        \"transaction\": trans\n",
    "    })\n",
    "wallet"
   ]
  },
  {
   "cell_type": "markdown",
   "metadata": {},
   "source": [
    "Also - I just realised you can download each day's data as a csv file so idk how useful this is but here you go lol\n",
    "\n",
    "Below is a link of what the dl looks like"
   ]
  },
  {
   "cell_type": "code",
   "execution_count": 166,
   "metadata": {
    "collapsed": false
   },
   "outputs": [
    {
     "data": {
      "text/html": [
       "<div>\n",
       "<table border=\"1\" class=\"dataframe\">\n",
       "  <thead>\n",
       "    <tr style=\"text-align: right;\">\n",
       "      <th></th>\n",
       "      <th></th>\n",
       "      <th></th>\n",
       "      <th></th>\n",
       "      <th></th>\n",
       "      <th></th>\n",
       "      <th>#Wallet 23c39bc811da0d39, page 1 from 1, transactions 1-5. Updated to block 455049 (2017-02-28 00:59:42 UTC). Source: WalletExplorer.com</th>\n",
       "    </tr>\n",
       "  </thead>\n",
       "  <tbody>\n",
       "    <tr>\n",
       "      <th>date</th>\n",
       "      <th>received from</th>\n",
       "      <th>received amount</th>\n",
       "      <th>sent amount</th>\n",
       "      <th>sent to</th>\n",
       "      <th>balance</th>\n",
       "      <td>transaction</td>\n",
       "    </tr>\n",
       "    <tr>\n",
       "      <th>2017-02-06 01:02:47</th>\n",
       "      <th>b4a74320e7f069a2</th>\n",
       "      <th>0.14915494</th>\n",
       "      <th>NaN</th>\n",
       "      <th>NaN</th>\n",
       "      <th>0.14925494</th>\n",
       "      <td>2c44195149bbc0cf9f8aaeb5e434b899611e7e161e0446...</td>\n",
       "    </tr>\n",
       "    <tr>\n",
       "      <th>2016-11-24 17:36:42</th>\n",
       "      <th>2a7bb3480384eed5</th>\n",
       "      <th>0.0001</th>\n",
       "      <th>NaN</th>\n",
       "      <th>NaN</th>\n",
       "      <th>0.0001</th>\n",
       "      <td>eef5e0b1f24194402b89d0af40b1964632996414a40600...</td>\n",
       "    </tr>\n",
       "    <tr>\n",
       "      <th rowspan=\"3\" valign=\"top\">2016-08-20 21:23:38</th>\n",
       "      <th rowspan=\"3\" valign=\"top\">NaN</th>\n",
       "      <th rowspan=\"3\" valign=\"top\">NaN</th>\n",
       "      <th>0.5</th>\n",
       "      <th>ec38851dbb8af0a8</th>\n",
       "      <th>0</th>\n",
       "      <td>1b1ac78d6f812c6bf80ad5848fb982592af7e48e295396...</td>\n",
       "    </tr>\n",
       "    <tr>\n",
       "      <th>0.428801</th>\n",
       "      <th>51743e65e4a27f63</th>\n",
       "      <th>0</th>\n",
       "      <td>1b1ac78d6f812c6bf80ad5848fb982592af7e48e295396...</td>\n",
       "    </tr>\n",
       "    <tr>\n",
       "      <th>0.00018799</th>\n",
       "      <th>(fee)</th>\n",
       "      <th>0</th>\n",
       "      <td>1b1ac78d6f812c6bf80ad5848fb982592af7e48e295396...</td>\n",
       "    </tr>\n",
       "    <tr>\n",
       "      <th>2016-07-07 22:37:48</th>\n",
       "      <th>b4ac413a2937ee5a</th>\n",
       "      <th>0.03593299</th>\n",
       "      <th>NaN</th>\n",
       "      <th>NaN</th>\n",
       "      <th>0.92898899</th>\n",
       "      <td>27e4f4629aca12f13097dcf581688a0d5a20157d8c190b...</td>\n",
       "    </tr>\n",
       "    <tr>\n",
       "      <th>2016-07-01 18:13:53</th>\n",
       "      <th>924d32a14ffafd41</th>\n",
       "      <th>0.893056</th>\n",
       "      <th>NaN</th>\n",
       "      <th>NaN</th>\n",
       "      <th>0.893056</th>\n",
       "      <td>2ae8a39f65fbbaf64988976993074569e34a896e040a93...</td>\n",
       "    </tr>\n",
       "  </tbody>\n",
       "</table>\n",
       "</div>"
      ],
      "text/plain": [
       "                                                                                             #Wallet 23c39bc811da0d39, page 1 from 1, transactions 1-5. Updated to block 455049 (2017-02-28 00:59:42 UTC). Source: WalletExplorer.com\n",
       "date                received from    received amount sent amount sent to          balance                                           transaction                                                                                      \n",
       "2017-02-06 01:02:47 b4a74320e7f069a2 0.14915494      NaN         NaN              0.14925494  2c44195149bbc0cf9f8aaeb5e434b899611e7e161e0446...                                                                                      \n",
       "2016-11-24 17:36:42 2a7bb3480384eed5 0.0001          NaN         NaN              0.0001      eef5e0b1f24194402b89d0af40b1964632996414a40600...                                                                                      \n",
       "2016-08-20 21:23:38 NaN              NaN             0.5         ec38851dbb8af0a8 0           1b1ac78d6f812c6bf80ad5848fb982592af7e48e295396...                                                                                      \n",
       "                                                     0.428801    51743e65e4a27f63 0           1b1ac78d6f812c6bf80ad5848fb982592af7e48e295396...                                                                                      \n",
       "                                                     0.00018799  (fee)            0           1b1ac78d6f812c6bf80ad5848fb982592af7e48e295396...                                                                                      \n",
       "2016-07-07 22:37:48 b4ac413a2937ee5a 0.03593299      NaN         NaN              0.92898899  27e4f4629aca12f13097dcf581688a0d5a20157d8c190b...                                                                                      \n",
       "2016-07-01 18:13:53 924d32a14ffafd41 0.893056        NaN         NaN              0.893056    2ae8a39f65fbbaf64988976993074569e34a896e040a93...                                                                                      "
      ]
     },
     "execution_count": 166,
     "metadata": {},
     "output_type": "execute_result"
    }
   ],
   "source": [
    "pd.read_csv(\"walletexplorer-23c39bc811da0d39-1.csv\")"
   ]
  },
  {
   "cell_type": "code",
   "execution_count": null,
   "metadata": {
    "collapsed": true
   },
   "outputs": [],
   "source": []
  }
 ],
 "metadata": {
  "kernelspec": {
   "display_name": "Python 3",
   "language": "python",
   "name": "python3"
  },
  "language_info": {
   "codemirror_mode": {
    "name": "ipython",
    "version": 3
   },
   "file_extension": ".py",
   "mimetype": "text/x-python",
   "name": "python",
   "nbconvert_exporter": "python",
   "pygments_lexer": "ipython3",
   "version": "3.4.5"
  }
 },
 "nbformat": 4,
 "nbformat_minor": 0
}

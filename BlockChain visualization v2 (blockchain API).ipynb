{
 "cells": [
  {
   "cell_type": "code",
   "execution_count": 3,
   "metadata": {
    "collapsed": false
   },
   "outputs": [],
   "source": [
    "from blockchain import blockexplorer as be"
   ]
  },
  {
   "cell_type": "markdown",
   "metadata": {},
   "source": [
    "# Documentation: \n",
    "be.get_tx(index or hash) \n",
    "be.get_address(address in base58 or hash160)\n",
    "https://github.com/blockchain/api-v1-client-python/blob/master/docs/blockexplorer.md\n",
    "\n",
    "#### address:\n",
    "```\n",
    "hash160 : str  \n",
    "address : str  \n",
    "n_tx : int  \n",
    "total_received : int  \n",
    "total_sent : int  \n",
    "final_balance : int  \n",
    "transactions : array of Transaction objects\n",
    "```\n",
    "#### transaction:\n",
    "```\n",
    "double_spend : bool  \n",
    "block_height : int (if -1, the tx is unconfirmed)  \n",
    "time : int  \n",
    "relayed_by : str  \n",
    "hash : str  \n",
    "tx_index : int  \n",
    "version : int  \n",
    "size : int  \n",
    "inputs : array of Input objects  \n",
    "outputs: array of Output objects  \n",
    "```\n",
    "#### input:\n",
    "```\n",
    "n : int  \n",
    "value : int  \n",
    "address : str  \n",
    "tx_index : int  \n",
    "type : int  \n",
    "script : str  \n",
    "script_sig : str  \n",
    "sequence : int  \n",
    "```\n",
    "#### output:\n",
    "```\n",
    "n : int  \n",
    "value : int  \n",
    "address : str  \n",
    "tx_index : int  \n",
    "script : str  \n",
    "spent : bool  \n",
    "```"
   ]
  },
  {
   "cell_type": "code",
   "execution_count": 12,
   "metadata": {
    "collapsed": true
   },
   "outputs": [],
   "source": [
    "mappy_addr = \"1MMaU5nTrFdPZotfwdbv1wWnFjLCTFbpPY\""
   ]
  },
  {
   "cell_type": "code",
   "execution_count": 13,
   "metadata": {
    "collapsed": false
   },
   "outputs": [],
   "source": [
    "mappy = be.get_address(mappy_addr)"
   ]
  },
  {
   "cell_type": "code",
   "execution_count": 14,
   "metadata": {
    "collapsed": false
   },
   "outputs": [
    {
     "data": {
      "text/plain": [
       "'1MMaU5nTrFdPZotfwdbv1wWnFjLCTFbpPY'"
      ]
     },
     "execution_count": 14,
     "metadata": {},
     "output_type": "execute_result"
    }
   ],
   "source": [
    "mappy.address"
   ]
  },
  {
   "cell_type": "code",
   "execution_count": 15,
   "metadata": {
    "collapsed": false
   },
   "outputs": [
    {
     "data": {
      "text/plain": [
       "'1CptRcXS2UWw43qzps73Dv8UQXCst2meqf'"
      ]
     },
     "execution_count": 15,
     "metadata": {},
     "output_type": "execute_result"
    }
   ],
   "source": [
    "mappy.transactions[0].inputs[0].address"
   ]
  },
  {
   "cell_type": "code",
   "execution_count": null,
   "metadata": {
    "collapsed": true
   },
   "outputs": [],
   "source": []
  }
 ],
 "metadata": {
  "kernelspec": {
   "display_name": "Python 3",
   "language": "python",
   "name": "python3"
  },
  "language_info": {
   "codemirror_mode": {
    "name": "ipython",
    "version": 3
   },
   "file_extension": ".py",
   "mimetype": "text/x-python",
   "name": "python",
   "nbconvert_exporter": "python",
   "pygments_lexer": "ipython3",
   "version": "3.4.5"
  }
 },
 "nbformat": 4,
 "nbformat_minor": 2
}
